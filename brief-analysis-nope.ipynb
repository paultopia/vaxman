{
 "cells": [
  {
   "cell_type": "code",
   "execution_count": 1,
   "id": "0025faaf",
   "metadata": {},
   "outputs": [],
   "source": [
    "import pandas as pd\n",
    "import plottyprint"
   ]
  },
  {
   "cell_type": "code",
   "execution_count": 2,
   "id": "09015b29",
   "metadata": {
    "scrolled": true
   },
   "outputs": [],
   "source": [
    "df = pd.read_excel('vaxdata-shorter.xlsx')"
   ]
  },
  {
   "cell_type": "code",
   "execution_count": 3,
   "id": "76d7731b",
   "metadata": {},
   "outputs": [
    {
     "data": {
      "text/html": [
       "<div>\n",
       "<style scoped>\n",
       "    .dataframe tbody tr th:only-of-type {\n",
       "        vertical-align: middle;\n",
       "    }\n",
       "\n",
       "    .dataframe tbody tr th {\n",
       "        vertical-align: top;\n",
       "    }\n",
       "\n",
       "    .dataframe thead th {\n",
       "        text-align: right;\n",
       "    }\n",
       "</style>\n",
       "<table border=\"1\" class=\"dataframe\">\n",
       "  <thead>\n",
       "    <tr style=\"text-align: right;\">\n",
       "      <th></th>\n",
       "      <th>State</th>\n",
       "      <th>PCV-childhood</th>\n",
       "      <th>HPV-childhood</th>\n",
       "      <th>Rota-childhood</th>\n",
       "      <th>MenACWY-elem-sec</th>\n",
       "      <th>MenACWY-college</th>\n",
       "      <th>Hep-B-childhood</th>\n",
       "      <th>Hep-B-college</th>\n",
       "      <th>Hep-A-childhood</th>\n",
       "      <th>Influenza-childhood</th>\n",
       "      <th>Religious-exemption</th>\n",
       "      <th>Personal-exemption</th>\n",
       "      <th>RFRA</th>\n",
       "      <th>Notes</th>\n",
       "    </tr>\n",
       "  </thead>\n",
       "  <tbody>\n",
       "    <tr>\n",
       "      <th>0</th>\n",
       "      <td>Alabama</td>\n",
       "      <td>1</td>\n",
       "      <td>0</td>\n",
       "      <td>0</td>\n",
       "      <td>0</td>\n",
       "      <td>0</td>\n",
       "      <td>0</td>\n",
       "      <td>0</td>\n",
       "      <td>0</td>\n",
       "      <td>0</td>\n",
       "      <td>1</td>\n",
       "      <td>0</td>\n",
       "      <td>1</td>\n",
       "      <td>NaN</td>\n",
       "    </tr>\n",
       "    <tr>\n",
       "      <th>1</th>\n",
       "      <td>Alaska</td>\n",
       "      <td>0</td>\n",
       "      <td>0</td>\n",
       "      <td>0</td>\n",
       "      <td>0</td>\n",
       "      <td>0</td>\n",
       "      <td>1</td>\n",
       "      <td>0</td>\n",
       "      <td>1</td>\n",
       "      <td>0</td>\n",
       "      <td>1</td>\n",
       "      <td>0</td>\n",
       "      <td>0</td>\n",
       "      <td>NaN</td>\n",
       "    </tr>\n",
       "    <tr>\n",
       "      <th>2</th>\n",
       "      <td>Arizona</td>\n",
       "      <td>0</td>\n",
       "      <td>0</td>\n",
       "      <td>0</td>\n",
       "      <td>1</td>\n",
       "      <td>0</td>\n",
       "      <td>1</td>\n",
       "      <td>0</td>\n",
       "      <td>1</td>\n",
       "      <td>0</td>\n",
       "      <td>1</td>\n",
       "      <td>1</td>\n",
       "      <td>1</td>\n",
       "      <td>Hep-A requirements are for Maricopa County onl...</td>\n",
       "    </tr>\n",
       "    <tr>\n",
       "      <th>3</th>\n",
       "      <td>Arkansas</td>\n",
       "      <td>1</td>\n",
       "      <td>0</td>\n",
       "      <td>0</td>\n",
       "      <td>1</td>\n",
       "      <td>0</td>\n",
       "      <td>1</td>\n",
       "      <td>0</td>\n",
       "      <td>1</td>\n",
       "      <td>0</td>\n",
       "      <td>1</td>\n",
       "      <td>1</td>\n",
       "      <td>1</td>\n",
       "      <td>NaN</td>\n",
       "    </tr>\n",
       "    <tr>\n",
       "      <th>4</th>\n",
       "      <td>California</td>\n",
       "      <td>0</td>\n",
       "      <td>0</td>\n",
       "      <td>0</td>\n",
       "      <td>0</td>\n",
       "      <td>0</td>\n",
       "      <td>1</td>\n",
       "      <td>1</td>\n",
       "      <td>0</td>\n",
       "      <td>0</td>\n",
       "      <td>0</td>\n",
       "      <td>0</td>\n",
       "      <td>0</td>\n",
       "      <td>NaN</td>\n",
       "    </tr>\n",
       "  </tbody>\n",
       "</table>\n",
       "</div>"
      ],
      "text/plain": [
       "        State  PCV-childhood  HPV-childhood  Rota-childhood  MenACWY-elem-sec  \\\n",
       "0     Alabama              1              0               0                 0   \n",
       "1      Alaska              0              0               0                 0   \n",
       "2     Arizona              0              0               0                 1   \n",
       "3    Arkansas              1              0               0                 1   \n",
       "4  California              0              0               0                 0   \n",
       "\n",
       "   MenACWY-college  Hep-B-childhood  Hep-B-college  Hep-A-childhood  \\\n",
       "0                0                0              0                0   \n",
       "1                0                1              0                1   \n",
       "2                0                1              0                1   \n",
       "3                0                1              0                1   \n",
       "4                0                1              1                0   \n",
       "\n",
       "   Influenza-childhood  Religious-exemption  Personal-exemption  RFRA  \\\n",
       "0                    0                    1                   0     1   \n",
       "1                    0                    1                   0     0   \n",
       "2                    0                    1                   1     1   \n",
       "3                    0                    1                   1     1   \n",
       "4                    0                    0                   0     0   \n",
       "\n",
       "                                               Notes  \n",
       "0                                                NaN  \n",
       "1                                                NaN  \n",
       "2  Hep-A requirements are for Maricopa County onl...  \n",
       "3                                                NaN  \n",
       "4                                                NaN  "
      ]
     },
     "execution_count": 3,
     "metadata": {},
     "output_type": "execute_result"
    }
   ],
   "source": [
    "df.head()"
   ]
  },
  {
   "cell_type": "code",
   "execution_count": 4,
   "id": "f7233337",
   "metadata": {},
   "outputs": [
    {
     "name": "stdout",
     "output_type": "stream",
     "text": [
      "Index(['State', 'PCV-childhood', 'HPV-childhood', 'Rota-childhood',\n",
      "       'MenACWY-elem-sec', 'MenACWY-college', 'Hep-B-childhood',\n",
      "       'Hep-B-college', 'Hep-A-childhood', 'Influenza-childhood',\n",
      "       'Religious-exemption', 'Personal-exemption', 'RFRA', 'Notes'],\n",
      "      dtype='object')\n"
     ]
    }
   ],
   "source": [
    "print(df.columns)"
   ]
  },
  {
   "cell_type": "code",
   "execution_count": 5,
   "id": "95b1f10d",
   "metadata": {},
   "outputs": [],
   "source": [
    "mandates = df.columns[1:10]"
   ]
  },
  {
   "cell_type": "code",
   "execution_count": 6,
   "id": "e94181ee",
   "metadata": {},
   "outputs": [],
   "source": [
    "df['strictness'] = df[mandates].sum(axis=1)"
   ]
  },
  {
   "cell_type": "code",
   "execution_count": 7,
   "id": "f3f0c6c3",
   "metadata": {},
   "outputs": [],
   "source": [
    "exempted = df[df['Religious-exemption']==1]['strictness'].tolist()"
   ]
  },
  {
   "cell_type": "code",
   "execution_count": 8,
   "id": "8137b968",
   "metadata": {},
   "outputs": [],
   "source": [
    "not_exempted = df[df['Religious-exemption']==0]['strictness'].tolist()"
   ]
  },
  {
   "cell_type": "code",
   "execution_count": 9,
   "id": "952d910c",
   "metadata": {},
   "outputs": [
    {
     "name": "stderr",
     "output_type": "stream",
     "text": [
      "findfont: Font family 'Lato' not found.\n",
      "findfont: Font family 'Lato' not found.\n",
      "findfont: Font family 'Lato' not found.\n",
      "findfont: Font family 'Lato' not found.\n",
      "findfont: Font family 'Lato' not found.\n",
      "findfont: Font family 'Lato' not found.\n",
      "findfont: Font family 'Lato' not found.\n",
      "findfont: Font family 'Lato' not found.\n"
     ]
    },
    {
     "data": {
      "image/png": "[encoded data removed]",
      "text/plain": [
       "<PlottyFig size 1000x1000 with 1 Axes>"
      ]
     },
     "metadata": {},
     "output_type": "display_data"
    }
   ],
   "source": [
    "letssee = plottyprint.boxplot([exempted, not_exempted], labels=[\"religious exemption\", \"no religious exemption\"], title=\"vaccine strictness\", )"
   ]
  },
  {
   "cell_type": "code",
   "execution_count": null,
   "id": "c07e79a9",
   "metadata": {},
   "outputs": [],
   "source": []
  }
 ],
 "metadata": {
  "kernelspec": {
   "display_name": "vaxman",
   "language": "python",
   "name": "vaxman"
  },
  "language_info": {
   "codemirror_mode": {
    "name": "ipython",
    "version": 3
   },
   "file_extension": ".py",
   "mimetype": "text/x-python",
   "name": "python",
   "nbconvert_exporter": "python",
   "pygments_lexer": "ipython3",
   "version": "3.9.7"
  }
 },
 "nbformat": 4,
 "nbformat_minor": 5
}
